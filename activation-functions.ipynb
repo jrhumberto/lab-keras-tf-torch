{
 "cells": [
  {
   "cell_type": "code",
   "execution_count": 1,
   "metadata": {},
   "outputs": [
    {
     "name": "stdout",
     "output_type": "stream",
     "text": [
      "Python 3.12.5\n"
     ]
    }
   ],
   "source": [
    "!python --version"
   ]
  },
  {
   "cell_type": "markdown",
   "metadata": {},
   "source": [
    "# imports"
   ]
  },
  {
   "cell_type": "code",
   "execution_count": 2,
   "metadata": {},
   "outputs": [],
   "source": [
    "import numpy as np"
   ]
  },
  {
   "cell_type": "markdown",
   "metadata": {},
   "source": [
    "# step function"
   ]
  },
  {
   "cell_type": "code",
   "execution_count": 3,
   "metadata": {},
   "outputs": [],
   "source": [
    "# retorna 0 ou 1\n",
    "# -\n",
    "# é utilizada para problemas linearmente separáveis\n",
    "# como a resolução de uma tabela verdade and\n",
    "\n",
    "def step_function(soma):\n",
    "  if soma >= 1:\n",
    "    return 1\n",
    "  return 0"
   ]
  },
  {
   "cell_type": "code",
   "execution_count": 4,
   "metadata": {},
   "outputs": [
    {
     "data": {
      "text/plain": [
       "(0, 1, 1)"
      ]
     },
     "execution_count": 4,
     "metadata": {},
     "output_type": "execute_result"
    }
   ],
   "source": [
    "step_function(-10), step_function(1), step_function(10)"
   ]
  },
  {
   "cell_type": "markdown",
   "metadata": {},
   "source": [
    "# sigmoid function"
   ]
  },
  {
   "cell_type": "code",
   "execution_count": 5,
   "metadata": {},
   "outputs": [],
   "source": [
    "# retorna valores entre 0 ou 1\n",
    "# -\n",
    "# é muito utilizada em problemas de classificação binária\n",
    "# quando existem somente duas classes\n",
    "# pois devolve algo como uma probabilidade entre as duas classes\n",
    "# -\n",
    "# quanto mais próximo de 0, mais chance há de ser da classe 0\n",
    "# quanto mais próximo de 1, mais chance há de ser da classe 1\n",
    "\n",
    "def sigmoid_function(soma):\n",
    "  return 1 / (1 + np.exp(-soma))"
   ]
  },
  {
   "cell_type": "code",
   "execution_count": 6,
   "metadata": {},
   "outputs": [
    {
     "data": {
      "text/plain": [
       "(4.5397868702434395e-05, 0.7310585786300049, 0.9999546021312976)"
      ]
     },
     "execution_count": 6,
     "metadata": {},
     "output_type": "execute_result"
    }
   ],
   "source": [
    "sigmoid_function(-10), sigmoid_function(1), sigmoid_function(10)"
   ]
  },
  {
   "cell_type": "markdown",
   "metadata": {},
   "source": [
    "# hyperbolic tangent function"
   ]
  },
  {
   "cell_type": "code",
   "execution_count": 7,
   "metadata": {},
   "outputs": [],
   "source": [
    "# retorna valores entre -1 e 1\n",
    "# -\n",
    "# demonstra melhor desempenho quando utilizada\n",
    "# em problemas mais complexos da área de visão computacional\n",
    "# a exemplo de autoencoders ou redes adversários generativas (gans)\n",
    "\n",
    "def tanh_function(soma):\n",
    "  numerador = np.exp(soma) - np.exp(-soma)\n",
    "  denominador = np.exp(soma) + np.exp(-soma)\n",
    "  return numerador / denominador"
   ]
  },
  {
   "cell_type": "code",
   "execution_count": 8,
   "metadata": {},
   "outputs": [
    {
     "data": {
      "text/plain": [
       "(-0.9999999958776926, 0.7615941559557649, 0.9999999958776926)"
      ]
     },
     "execution_count": 8,
     "metadata": {},
     "output_type": "execute_result"
    }
   ],
   "source": [
    "tanh_function(-10), tanh_function(1), tanh_function(10)"
   ]
  },
  {
   "cell_type": "markdown",
   "metadata": {},
   "source": [
    "# rectified linear units (relu) function"
   ]
  },
  {
   "cell_type": "code",
   "execution_count": 9,
   "metadata": {},
   "outputs": [],
   "source": [
    "# retorna 0 quando o valor é igual ou menor 0\n",
    "# do contrário, retona o próprio valor recebido\n",
    "# -\n",
    "# é a função mais utilizada nas camadas ocultas das redes neurais\n",
    "# para realizar o processamento dentro dessas camadas\n",
    "# -\n",
    "# as funções apresentadas anteriormente são mais comumente empregadas\n",
    "# nas camadas de saída das redes\n",
    "\n",
    "def relu_function(soma):\n",
    "  if soma >= 0:\n",
    "    return soma\n",
    "  return 0"
   ]
  },
  {
   "cell_type": "code",
   "execution_count": 10,
   "metadata": {},
   "outputs": [
    {
     "data": {
      "text/plain": [
       "(0, 1, 10)"
      ]
     },
     "execution_count": 10,
     "metadata": {},
     "output_type": "execute_result"
    }
   ],
   "source": [
    "relu_function(-10), relu_function(1), relu_function(10)"
   ]
  },
  {
   "cell_type": "markdown",
   "metadata": {},
   "source": [
    "# softmax function"
   ]
  },
  {
   "cell_type": "code",
   "execution_count": 11,
   "metadata": {},
   "outputs": [],
   "source": [
    "# retorna uma probabilidade para cada um dos valores recebidos\n",
    "# -\n",
    "# é utilizada na camada de saída\n",
    "# e comumente empregada para problemas de classificação\n",
    "# com 3 ou mais classes\n",
    "\n",
    "def softmax_function(x):\n",
    "  exp = np.exp(x)\n",
    "  return exp / exp.sum()"
   ]
  },
  {
   "cell_type": "code",
   "execution_count": 12,
   "metadata": {},
   "outputs": [
    {
     "data": {
      "text/plain": [
       "array([0.99001676, 0.00667068, 0.00331256])"
      ]
     },
     "execution_count": 12,
     "metadata": {},
     "output_type": "execute_result"
    }
   ],
   "source": [
    "softmax_function([7.0, 2.0, 1.3])"
   ]
  },
  {
   "cell_type": "code",
   "execution_count": 13,
   "metadata": {},
   "outputs": [
    {
     "data": {
      "text/plain": [
       "array([0.03434934, 0.03434934, 0.93130132])"
      ]
     },
     "execution_count": 13,
     "metadata": {},
     "output_type": "execute_result"
    }
   ],
   "source": [
    "softmax_function([2.0, 2.0, 5.3])"
   ]
  },
  {
   "cell_type": "markdown",
   "metadata": {},
   "source": [
    "# linear function"
   ]
  },
  {
   "cell_type": "code",
   "execution_count": 14,
   "metadata": {},
   "outputs": [],
   "source": [
    "# retorna inalterado qualquer valor que recebe\n",
    "# seja este negativo ou positivo\n",
    "# -\n",
    "# é utilizada em problemas de regressão\n",
    "# quando se quer receber forma inalterada o resultado calculado através\n",
    "# da estrutura da rede\n",
    "\n",
    "def linear_function(soma):\n",
    "  return soma"
   ]
  },
  {
   "cell_type": "code",
   "execution_count": 15,
   "metadata": {},
   "outputs": [
    {
     "data": {
      "text/plain": [
       "(-10, 1, 10)"
      ]
     },
     "execution_count": 15,
     "metadata": {},
     "output_type": "execute_result"
    }
   ],
   "source": [
    "linear_function(-10), linear_function(1), linear_function(10)"
   ]
  }
 ],
 "metadata": {
  "kernelspec": {
   "display_name": "venv",
   "language": "python",
   "name": "python3"
  },
  "language_info": {
   "codemirror_mode": {
    "name": "ipython",
    "version": 3
   },
   "file_extension": ".py",
   "mimetype": "text/x-python",
   "name": "python",
   "nbconvert_exporter": "python",
   "pygments_lexer": "ipython3",
   "version": "3.12.5"
  }
 },
 "nbformat": 4,
 "nbformat_minor": 2
}
